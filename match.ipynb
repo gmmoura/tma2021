{
 "cells": [
  {
   "cell_type": "code",
   "execution_count": 1,
   "metadata": {},
   "outputs": [],
   "source": [
    "\n",
    "#this creates a TLD dictionary with all its features we want\n",
    "y2017=dict()\n",
    "\n",
    "with  open('out-2017.csv', 'r') as f:\n",
    "    for l in f:\n",
    "        if 'totalAny'not in l:\n",
    "            sp=l.split(\",\")\n",
    "            tld=sp[0].strip()\n",
    "\n",
    "            sitesUniquePrefix=sp[6].strip()\n",
    "            unicast=sp[7].strip()\n",
    "            merged=str(int(sitesUniquePrefix)+int(unicast))\n",
    "            del sp[0]\n",
    "            newL = ','.join(sp)\n",
    "            y2017[tld]= newL.strip()+\",\"+ sitesUniquePrefix+\",\"+unicast+\",\"+merged.strip()\n",
    "            \n",
    "\n",
    "        "
   ]
  },
  {
   "cell_type": "code",
   "execution_count": 2,
   "metadata": {},
   "outputs": [],
   "source": [
    "#same for 2021 \n",
    "y2021=dict()\n",
    "\n",
    "with  open('out-2021.csv', 'r') as f:\n",
    "    for l in f:\n",
    "        if 'totalAny'not in l:\n",
    "            sp=l.split(\",\")\n",
    "            tld=sp[0].strip()\n",
    "            sitesUniquePrefix=sp[6].strip()\n",
    "            unicast=sp[7].strip()\n",
    "            merged=str(int(sitesUniquePrefix)+int(unicast))\n",
    "            del sp[0]\n",
    "            newL = ','.join(sp)\n",
    "            #y2017[tld]= newL.strip()+\",\"+ sitesUniquePrefix+\",\"+unicast+\",\"+merged.strip()\n",
    "            \n",
    "\n",
    "            y2021[tld]=newL.strip()+\",\"+ sitesUniquePrefix+\",\"+unicast+\",\"+merged.strip()\n",
    "            \n",
    "\n",
    "        "
   ]
  },
  {
   "cell_type": "code",
   "execution_count": 3,
   "metadata": {},
   "outputs": [],
   "source": [
    "#create a CSV file which output TLDs that match on *BOTH* 2017 and 2021, and join its features\n",
    "with open(\"matched-tlds.csv\", 'w') as aus:\n",
    "    header='tld,NumberNSrecords,UniqueARecs,UniqueAAAArecs,AnycastPrefixesArecs,totalAnycastSitesIPv4,totalAnycastSitesIPv4Slash24,totalUnicastIPv4'\n",
    "    header=header +\",sites2017,unicast2017,combined2017\"\n",
    "    header=header+\",|,NumberNSrecords,UniqueARecs,UniqueAAAArecs,AnycastPrefixesArecs,totalAnycastSitesIPv4,totalAnycastSitesIPv4Slash24,totalUnicastIPv4\"\n",
    "    header=header +\",sites21,unicast21,combined21,classification17,classification21\\n\"\n",
    "    \n",
    "    aus.write(header)\n",
    "    for k,v in y2017.items():\n",
    "        class21=''\n",
    "        class17=''\n",
    "        if k in y2021:\n",
    "            l2017=v.split(\",\")\n",
    "     \n",
    "            anycast2017=int(l2017[3])\n",
    "            unicast2017=int(l2017[6])\n",
    "            #print(l2017)\n",
    "            \n",
    "            if anycast2017==0 and unicast2017>0:\n",
    "                #unicast only\n",
    "                class17='Unicast'\n",
    "             \n",
    "            elif anycast2017>0 and unicast2017==0:\n",
    "                class17='Anycast'\n",
    "                \n",
    "            elif anycast2017>0 and unicast2017>0:\n",
    "                class17='Mixed'\n",
    "               \n",
    "                \n",
    "            l2021=y2021[k].strip().split(\",\")\n",
    "            \n",
    "            anycast2021=int(l2021[3])\n",
    "           \n",
    "            unicast2021=int(l2021[6])\n",
    "            \n",
    "            if anycast2021==0 and unicast2021>0:\n",
    "                #unicast only\n",
    "                class21='Unicast'\n",
    "            elif anycast2021>0 and unicast2021==0:\n",
    "                class21='Anycast'\n",
    "            elif anycast2021>0 and unicast2021>0:\n",
    "                class21='Mixed'\n",
    "            \n",
    "            \n",
    "            aus.write(k+\",\"+v.strip()+ \",|,\"+ y2021[k].strip()+\",\" + class17+\",\" + class21+\"\\n\" )\n",
    "aus.close()            "
   ]
  },
  {
   "cell_type": "code",
   "execution_count": 4,
   "metadata": {},
   "outputs": [
    {
     "name": "stdout",
     "output_type": "stream",
     "text": [
      "60\n"
     ]
    }
   ],
   "source": [
    "#calculate TLDs removed in 2021, for Table II\n",
    "count=0\n",
    "for k, v in y2017.items():\n",
    "    if k not in y2021:\n",
    "        #print(k)\n",
    "        count=count+1\n",
    "print(count)"
   ]
  },
  {
   "cell_type": "code",
   "execution_count": 10,
   "metadata": {},
   "outputs": [
    {
     "name": "stdout",
     "output_type": "stream",
     "text": [
      "32\n"
     ]
    }
   ],
   "source": [
    "#calculate TLDs added in 2021, for Table II\n",
    "count=0\n",
    "for k, v in y2021.items():\n",
    "    if k not in y2017:\n",
    "        #print(k)\n",
    "        count=count+1\n",
    "print(count)"
   ]
  },
  {
   "cell_type": "code",
   "execution_count": 11,
   "metadata": {},
   "outputs": [
    {
     "name": "stdout",
     "output_type": "stream",
     "text": [
      "1473\n"
     ]
    }
   ],
   "source": [
    "#intersection, Table II\n",
    "counter=0\n",
    "for k,v in y2017.items():\n",
    "    if k in y2021:\n",
    "        counter=counter+1\n",
    "\n",
    "        print(counter)"
   ]
  },
  {
   "cell_type": "code",
   "execution_count": 5,
   "metadata": {},
   "outputs": [],
   "source": [
    "#create a set with original tlds \n",
    "origTLDs=set()\n",
    "origTLDs.add('com.')\n",
    "origTLDs.add('edu.')\n",
    "\n",
    "origTLDs.add('gov.')\n",
    "origTLDs.add('mil.')\n",
    "origTLDs.add('org.')\n",
    "origTLDs.add('net.')\n",
    "origTLDs.add('int.')\n",
    "\n",
    "##{.com, .edu, .gov, .mil, .org, .net, .int}"
   ]
  },
  {
   "cell_type": "code",
   "execution_count": 6,
   "metadata": {},
   "outputs": [
    {
     "name": "stdout",
     "output_type": "stream",
     "text": [
      "247\n",
      "1219\n",
      "7\n"
     ]
    }
   ],
   "source": [
    "#classify tlds into  categories for table II\n",
    "ccTLD=set()\n",
    "ccTLD2017=0\n",
    "newGTLD=0\n",
    "origTLD=0\n",
    "\n",
    "for k,v in y2017.items():\n",
    "    if k in y2021:\n",
    "        if len(k.strip())==3:\n",
    "            ccTLD2017=ccTLD2017+1\n",
    "            ccTLD.add(k.strip())\n",
    "        elif k.strip() in origTLDs:\n",
    "            origTLD=origTLD+1\n",
    "        else:\n",
    "            newGTLD= newGTLD+1\n",
    "        \n",
    "print(ccTLD2017) #ctdls in table II\n",
    "print(newGTLD) #new gtlds in table II\n",
    "print(origTLD) #gTLDs in table II\n",
    "        \n",
    "        "
   ]
  },
  {
   "cell_type": "code",
   "execution_count": 7,
   "metadata": {},
   "outputs": [],
   "source": [
    "\n",
    "ccTLD2017=0\n",
    "newGTLD=0\n",
    "origTLD=0\n",
    "\n",
    "for k,v in y2021.items():\n",
    "    if k in y2017:\n",
    "        if len(k.strip())==3:\n",
    "            ccTLD2017=ccTLD2017+1\n",
    "\n",
    "\n",
    "\n",
    "        elif k.strip() in origTLDs:\n",
    "            origTLD=origTLD+1\n",
    "        else:\n",
    "            newGTLD= newGTLD+1\n",
    "\n",
    "        "
   ]
  },
  {
   "cell_type": "code",
   "execution_count": 8,
   "metadata": {},
   "outputs": [],
   "source": [
    "ccTLD=[]\n",
    "newGT=[]\n",
    "gtld=[]\n",
    "\n",
    "with open('matched-tlds.csv', 'r') as f:\n",
    "    for line in f:\n",
    "        sp=line.split(\",\")\n",
    "        tld=sp[0]\n",
    "        if tld in origTLDs:\n",
    "            gtld.append(line)\n",
    "        elif len(tld.strip())==3:\n",
    "            ccTLD.append(line)\n",
    "        else:\n",
    "            newGT.append(line)"
   ]
  },
  {
   "cell_type": "code",
   "execution_count": 9,
   "metadata": {},
   "outputs": [],
   "source": [
    "#write the categories of TLDs into matched-class\n",
    "with open('matched-class/cctld.csv', 'w') as aus:\n",
    "    \n",
    "    #aus.write(header)\n",
    "    for k in ccTLD:\n",
    "        aus.write(k.strip()+\"\\n\")"
   ]
  },
  {
   "cell_type": "code",
   "execution_count": 10,
   "metadata": {},
   "outputs": [],
   "source": [
    "with open('matched-class/gtld.csv', 'w') as aus:\n",
    "    aus.write(header)\n",
    "    for k in gtld:\n",
    "        aus.write(k.strip()+\"\\n\")"
   ]
  },
  {
   "cell_type": "code",
   "execution_count": 11,
   "metadata": {},
   "outputs": [],
   "source": [
    "with open('matched-class/newGTLD.csv', 'w') as aus:\n",
    "    aus.write(header)\n",
    "\n",
    "    for k in newGT:\n",
    "        aus.write(k.strip()+\"\\n\")"
   ]
  }
 ],
 "metadata": {
  "kernelspec": {
   "display_name": "Python 3",
   "language": "python",
   "name": "python3"
  },
  "language_info": {
   "codemirror_mode": {
    "name": "ipython",
    "version": 3
   },
   "file_extension": ".py",
   "mimetype": "text/x-python",
   "name": "python",
   "nbconvert_exporter": "python",
   "pygments_lexer": "ipython3",
   "version": "3.7.3"
  }
 },
 "nbformat": 4,
 "nbformat_minor": 2
}
